{
 "cells": [
  {
   "cell_type": "markdown",
   "metadata": {},
   "source": [
    "# AB测试 - 在线教育课程 - 页面停留时间"
   ]
  },
  {
   "cell_type": "code",
   "execution_count": 59,
   "metadata": {
    "ExecuteTime": {
     "end_time": "2021-03-11T10:23:29.115329Z",
     "start_time": "2021-03-11T10:23:29.110331Z"
    }
   },
   "outputs": [],
   "source": [
    "import pandas as pd \n",
    "import numpy as np\n",
    "from scipy import stats\n",
    "\n",
    "pd.set_option('display.float_format',lambda x : '%.2f' % x)\n",
    "np.set_printoptions(suppress=True)"
   ]
  },
  {
   "cell_type": "code",
   "execution_count": 2,
   "metadata": {
    "ExecuteTime": {
     "end_time": "2021-03-11T09:09:36.171997Z",
     "start_time": "2021-03-11T09:09:36.107281Z"
    },
    "scrolled": false
   },
   "outputs": [
    {
     "data": {
      "text/html": [
       "<div>\n",
       "<style scoped>\n",
       "    .dataframe tbody tr th:only-of-type {\n",
       "        vertical-align: middle;\n",
       "    }\n",
       "\n",
       "    .dataframe tbody tr th {\n",
       "        vertical-align: top;\n",
       "    }\n",
       "\n",
       "    .dataframe thead th {\n",
       "        text-align: right;\n",
       "    }\n",
       "</style>\n",
       "<table border=\"1\" class=\"dataframe\">\n",
       "  <thead>\n",
       "    <tr style=\"text-align: right;\">\n",
       "      <th></th>\n",
       "      <th>timestamp</th>\n",
       "      <th>id</th>\n",
       "      <th>group</th>\n",
       "      <th>action</th>\n",
       "      <th>duration</th>\n",
       "    </tr>\n",
       "  </thead>\n",
       "  <tbody>\n",
       "    <tr>\n",
       "      <th>0</th>\n",
       "      <td>2016-09-24 17:14:52.012145</td>\n",
       "      <td>261869</td>\n",
       "      <td>experiment</td>\n",
       "      <td>view</td>\n",
       "      <td>130.545004</td>\n",
       "    </tr>\n",
       "    <tr>\n",
       "      <th>1</th>\n",
       "      <td>2016-09-24 18:45:09.645857</td>\n",
       "      <td>226546</td>\n",
       "      <td>experiment</td>\n",
       "      <td>view</td>\n",
       "      <td>159.862440</td>\n",
       "    </tr>\n",
       "    <tr>\n",
       "      <th>2</th>\n",
       "      <td>2016-09-24 19:16:21.002533</td>\n",
       "      <td>286353</td>\n",
       "      <td>experiment</td>\n",
       "      <td>view</td>\n",
       "      <td>79.349315</td>\n",
       "    </tr>\n",
       "    <tr>\n",
       "      <th>3</th>\n",
       "      <td>2016-09-24 19:43:06.927785</td>\n",
       "      <td>842279</td>\n",
       "      <td>experiment</td>\n",
       "      <td>view</td>\n",
       "      <td>55.536126</td>\n",
       "    </tr>\n",
       "    <tr>\n",
       "      <th>4</th>\n",
       "      <td>2016-09-24 21:08:22.790333</td>\n",
       "      <td>781883</td>\n",
       "      <td>experiment</td>\n",
       "      <td>view</td>\n",
       "      <td>204.322437</td>\n",
       "    </tr>\n",
       "    <tr>\n",
       "      <th>...</th>\n",
       "      <td>...</td>\n",
       "      <td>...</td>\n",
       "      <td>...</td>\n",
       "      <td>...</td>\n",
       "      <td>...</td>\n",
       "    </tr>\n",
       "    <tr>\n",
       "      <th>4044</th>\n",
       "      <td>2017-01-18 09:39:08.046251</td>\n",
       "      <td>931490</td>\n",
       "      <td>control</td>\n",
       "      <td>view</td>\n",
       "      <td>58.846204</td>\n",
       "    </tr>\n",
       "    <tr>\n",
       "      <th>4045</th>\n",
       "      <td>2017-01-18 09:44:15.239671</td>\n",
       "      <td>410222</td>\n",
       "      <td>experiment</td>\n",
       "      <td>enroll</td>\n",
       "      <td>101.231821</td>\n",
       "    </tr>\n",
       "    <tr>\n",
       "      <th>4046</th>\n",
       "      <td>2017-01-18 09:56:26.948171</td>\n",
       "      <td>364458</td>\n",
       "      <td>control</td>\n",
       "      <td>view</td>\n",
       "      <td>293.490566</td>\n",
       "    </tr>\n",
       "    <tr>\n",
       "      <th>4047</th>\n",
       "      <td>2017-01-18 10:10:18.293253</td>\n",
       "      <td>443603</td>\n",
       "      <td>experiment</td>\n",
       "      <td>view</td>\n",
       "      <td>149.026959</td>\n",
       "    </tr>\n",
       "    <tr>\n",
       "      <th>4048</th>\n",
       "      <td>2017-01-18 10:38:20.939958</td>\n",
       "      <td>540111</td>\n",
       "      <td>experiment</td>\n",
       "      <td>view</td>\n",
       "      <td>62.039341</td>\n",
       "    </tr>\n",
       "  </tbody>\n",
       "</table>\n",
       "<p>4049 rows × 5 columns</p>\n",
       "</div>"
      ],
      "text/plain": [
       "                       timestamp      id       group  action    duration\n",
       "0     2016-09-24 17:14:52.012145  261869  experiment    view  130.545004\n",
       "1     2016-09-24 18:45:09.645857  226546  experiment    view  159.862440\n",
       "2     2016-09-24 19:16:21.002533  286353  experiment    view   79.349315\n",
       "3     2016-09-24 19:43:06.927785  842279  experiment    view   55.536126\n",
       "4     2016-09-24 21:08:22.790333  781883  experiment    view  204.322437\n",
       "...                          ...     ...         ...     ...         ...\n",
       "4044  2017-01-18 09:39:08.046251  931490     control    view   58.846204\n",
       "4045  2017-01-18 09:44:15.239671  410222  experiment  enroll  101.231821\n",
       "4046  2017-01-18 09:56:26.948171  364458     control    view  293.490566\n",
       "4047  2017-01-18 10:10:18.293253  443603  experiment    view  149.026959\n",
       "4048  2017-01-18 10:38:20.939958  540111  experiment    view   62.039341\n",
       "\n",
       "[4049 rows x 5 columns]"
      ]
     },
     "execution_count": 2,
     "metadata": {},
     "output_type": "execute_result"
    }
   ],
   "source": [
    "df = pd.read_csv('course_page_actions.csv')"
   ]
  },
  {
   "cell_type": "markdown",
   "metadata": {},
   "source": [
    "使用去重方法，观察group列是否纯净"
   ]
  },
  {
   "cell_type": "code",
   "execution_count": 7,
   "metadata": {
    "ExecuteTime": {
     "end_time": "2021-03-11T09:16:21.535842Z",
     "start_time": "2021-03-11T09:16:21.511874Z"
    },
    "scrolled": true
   },
   "outputs": [
    {
     "data": {
      "text/html": [
       "<div>\n",
       "<style scoped>\n",
       "    .dataframe tbody tr th:only-of-type {\n",
       "        vertical-align: middle;\n",
       "    }\n",
       "\n",
       "    .dataframe tbody tr th {\n",
       "        vertical-align: top;\n",
       "    }\n",
       "\n",
       "    .dataframe thead th {\n",
       "        text-align: right;\n",
       "    }\n",
       "</style>\n",
       "<table border=\"1\" class=\"dataframe\">\n",
       "  <thead>\n",
       "    <tr style=\"text-align: right;\">\n",
       "      <th></th>\n",
       "      <th>timestamp</th>\n",
       "      <th>id</th>\n",
       "      <th>group</th>\n",
       "      <th>action</th>\n",
       "      <th>duration</th>\n",
       "    </tr>\n",
       "  </thead>\n",
       "  <tbody>\n",
       "    <tr>\n",
       "      <th>0</th>\n",
       "      <td>2016-09-24 17:14:52.012145</td>\n",
       "      <td>261869</td>\n",
       "      <td>experiment</td>\n",
       "      <td>view</td>\n",
       "      <td>130.545004</td>\n",
       "    </tr>\n",
       "    <tr>\n",
       "      <th>1</th>\n",
       "      <td>2016-09-24 18:45:09.645857</td>\n",
       "      <td>226546</td>\n",
       "      <td>experiment</td>\n",
       "      <td>view</td>\n",
       "      <td>159.862440</td>\n",
       "    </tr>\n",
       "    <tr>\n",
       "      <th>2</th>\n",
       "      <td>2016-09-24 19:16:21.002533</td>\n",
       "      <td>286353</td>\n",
       "      <td>experiment</td>\n",
       "      <td>view</td>\n",
       "      <td>79.349315</td>\n",
       "    </tr>\n",
       "    <tr>\n",
       "      <th>3</th>\n",
       "      <td>2016-09-24 19:43:06.927785</td>\n",
       "      <td>842279</td>\n",
       "      <td>experiment</td>\n",
       "      <td>view</td>\n",
       "      <td>55.536126</td>\n",
       "    </tr>\n",
       "    <tr>\n",
       "      <th>4</th>\n",
       "      <td>2016-09-24 21:08:22.790333</td>\n",
       "      <td>781883</td>\n",
       "      <td>experiment</td>\n",
       "      <td>view</td>\n",
       "      <td>204.322437</td>\n",
       "    </tr>\n",
       "    <tr>\n",
       "      <th>...</th>\n",
       "      <td>...</td>\n",
       "      <td>...</td>\n",
       "      <td>...</td>\n",
       "      <td>...</td>\n",
       "      <td>...</td>\n",
       "    </tr>\n",
       "    <tr>\n",
       "      <th>4044</th>\n",
       "      <td>2017-01-18 09:39:08.046251</td>\n",
       "      <td>931490</td>\n",
       "      <td>control</td>\n",
       "      <td>view</td>\n",
       "      <td>58.846204</td>\n",
       "    </tr>\n",
       "    <tr>\n",
       "      <th>4045</th>\n",
       "      <td>2017-01-18 09:44:15.239671</td>\n",
       "      <td>410222</td>\n",
       "      <td>experiment</td>\n",
       "      <td>enroll</td>\n",
       "      <td>101.231821</td>\n",
       "    </tr>\n",
       "    <tr>\n",
       "      <th>4046</th>\n",
       "      <td>2017-01-18 09:56:26.948171</td>\n",
       "      <td>364458</td>\n",
       "      <td>control</td>\n",
       "      <td>view</td>\n",
       "      <td>293.490566</td>\n",
       "    </tr>\n",
       "    <tr>\n",
       "      <th>4047</th>\n",
       "      <td>2017-01-18 10:10:18.293253</td>\n",
       "      <td>443603</td>\n",
       "      <td>experiment</td>\n",
       "      <td>view</td>\n",
       "      <td>149.026959</td>\n",
       "    </tr>\n",
       "    <tr>\n",
       "      <th>4048</th>\n",
       "      <td>2017-01-18 10:38:20.939958</td>\n",
       "      <td>540111</td>\n",
       "      <td>experiment</td>\n",
       "      <td>view</td>\n",
       "      <td>62.039341</td>\n",
       "    </tr>\n",
       "  </tbody>\n",
       "</table>\n",
       "<p>4049 rows × 5 columns</p>\n",
       "</div>"
      ],
      "text/plain": [
       "                       timestamp      id       group  action    duration\n",
       "0     2016-09-24 17:14:52.012145  261869  experiment    view  130.545004\n",
       "1     2016-09-24 18:45:09.645857  226546  experiment    view  159.862440\n",
       "2     2016-09-24 19:16:21.002533  286353  experiment    view   79.349315\n",
       "3     2016-09-24 19:43:06.927785  842279  experiment    view   55.536126\n",
       "4     2016-09-24 21:08:22.790333  781883  experiment    view  204.322437\n",
       "...                          ...     ...         ...     ...         ...\n",
       "4044  2017-01-18 09:39:08.046251  931490     control    view   58.846204\n",
       "4045  2017-01-18 09:44:15.239671  410222  experiment  enroll  101.231821\n",
       "4046  2017-01-18 09:56:26.948171  364458     control    view  293.490566\n",
       "4047  2017-01-18 10:10:18.293253  443603  experiment    view  149.026959\n",
       "4048  2017-01-18 10:38:20.939958  540111  experiment    view   62.039341\n",
       "\n",
       "[4049 rows x 5 columns]"
      ]
     },
     "execution_count": 7,
     "metadata": {},
     "output_type": "execute_result"
    }
   ],
   "source": [
    "df.drop_duplicates(subset=['group'])"
   ]
  },
  {
   "cell_type": "markdown",
   "metadata": {},
   "source": [
    "根据对照组与测试组分组"
   ]
  },
  {
   "cell_type": "code",
   "execution_count": 5,
   "metadata": {
    "ExecuteTime": {
     "end_time": "2021-03-11T09:11:46.250232Z",
     "start_time": "2021-03-11T09:11:46.221246Z"
    },
    "scrolled": true
   },
   "outputs": [
    {
     "data": {
      "text/plain": [
       "(                       timestamp      id    group action    duration\n",
       " 11    2016-09-24 22:42:41.218757  701620  control   view  302.951552\n",
       " 13    2016-09-25 01:23:19.800167  439910  control   view   61.234458\n",
       " 15    2016-09-25 01:46:27.950552  842231  control   view  124.823065\n",
       " 19    2016-09-25 03:33:02.810074  882775  control   view  326.025765\n",
       " 21    2016-09-25 04:28:17.178986  491935  control   view  121.309499\n",
       " ...                          ...     ...      ...    ...         ...\n",
       " 4038  2017-01-18 06:57:37.696847  901542  control   view  124.298489\n",
       " 4041  2017-01-18 08:07:44.940868  282469  control   view  110.801373\n",
       " 4042  2017-01-18 08:35:44.813986  313521  control   view  131.677707\n",
       " 4044  2017-01-18 09:39:08.046251  931490  control   view   58.846204\n",
       " 4046  2017-01-18 09:56:26.948171  364458  control   view  293.490566\n",
       " \n",
       " [1949 rows x 5 columns],\n",
       "                        timestamp      id       group  action    duration\n",
       " 0     2016-09-24 17:14:52.012145  261869  experiment    view  130.545004\n",
       " 1     2016-09-24 18:45:09.645857  226546  experiment    view  159.862440\n",
       " 2     2016-09-24 19:16:21.002533  286353  experiment    view   79.349315\n",
       " 3     2016-09-24 19:43:06.927785  842279  experiment    view   55.536126\n",
       " 4     2016-09-24 21:08:22.790333  781883  experiment    view  204.322437\n",
       " ...                          ...     ...         ...     ...         ...\n",
       " 4040  2017-01-18 07:11:22.563679  845571  experiment  enroll  160.567579\n",
       " 4043  2017-01-18 08:35:55.418085  790105  experiment  enroll  119.939132\n",
       " 4045  2017-01-18 09:44:15.239671  410222  experiment  enroll  101.231821\n",
       " 4047  2017-01-18 10:10:18.293253  443603  experiment    view  149.026959\n",
       " 4048  2017-01-18 10:38:20.939958  540111  experiment    view   62.039341\n",
       " \n",
       " [2100 rows x 5 columns])"
      ]
     },
     "execution_count": 5,
     "metadata": {},
     "output_type": "execute_result"
    }
   ],
   "source": [
    "df_control = df[df.group == 'control']\n",
    "df_experiment = df[df.group == 'experiment']\n",
    "df_control, df_experiment"
   ]
  },
  {
   "cell_type": "markdown",
   "metadata": {},
   "source": [
    "安排AB测试指标\n",
    "\n",
    "双边检验：\n",
    "H0：实验组浏览时间对比测试组均值相同\n",
    "H1：实验组浏览时间对比测试组均值不同\n",
    "\n",
    "exp mean 实验组均值\n",
    "con mean 对照组均值\n",
    "con std 对照组标准差\n",
    "exp size 实验组容量\n",
    "alpha 显著性水平\n",
    " \n",
    "z-statistic z统计量\n",
    "z-value z值\n",
    "(p-value p值) \n",
    "\n",
    "Reject H0?"
   ]
  },
  {
   "cell_type": "code",
   "execution_count": 74,
   "metadata": {
    "ExecuteTime": {
     "end_time": "2021-03-11T10:34:15.210434Z",
     "start_time": "2021-03-11T10:34:15.196444Z"
    },
    "scrolled": true
   },
   "outputs": [
    {
     "name": "stdout",
     "output_type": "stream",
     "text": [
      "0.000000\n"
     ]
    }
   ],
   "source": [
    "# 计算实验组均值 exp_mean = 130.93220512539477\n",
    "exp_mean = df_experiment.duration.mean()\n",
    "\n",
    "# 计算对照组均值 con_mean = 115.40710650582038 - 此处可以看出实验组的确是有提升的，问题在于显著性\n",
    "\n",
    "con_mean = df_control.duration.mean()\n",
    "\n",
    "# 计算对照组标准差 con_std = 70.25634436867115\n",
    "\n",
    "con_std = df_control.duration.std()\n",
    "# exp_mean, con_mean, con_std\n",
    "\n",
    "# 实验组容量 exp_size = 2100\n",
    "\n",
    "exp_size = df_experiment.shape[0]\n",
    "\n",
    "# 显著性水平\n",
    "\n",
    "alpha = 0.05\n",
    "\n",
    "# 计算z统计量 z_statistics = 4.721294539547963\n",
    "\n",
    "z_statistics = (exp_mean - con_mean)/(con_std/np.sqrt(exp_size))\n",
    "z_statistics\n",
    "exp_mean, con_mean, con_std\n",
    "\n",
    "# 计算p值 - p值为 8.895150888254065e-12 约等于0 远小于0.05\n",
    "# ttest_ind 双样本双边检验（判断两样本均值是否相同），此函数默认方差齐性，如方差不同可设equal_var = False\n",
    "# levene 用于检验方差是否相同\n",
    "v = stats.levene(df_experiment.duration, df_control.duration)\n",
    "v\n",
    "# 此处p = 0.026，小于0.05，方差不齐\n",
    "# 因此需要设置equal_var = False\n",
    "# 尽管案例中实际上没有影响\n",
    "\n",
    "t_and_p = stats.stats.ttest_ind(df_experiment.duration, df_control.duration,equal_var = False)\n",
    "# print (\"%f\" %t_and_p[1])\n",
    "\n"
   ]
  },
  {
   "cell_type": "markdown",
   "metadata": {},
   "source": [
    "p值为 8.895150888254065e-12 约等于0 远小于0.05 因此可以拒绝原假设，接受备择假设。\n",
    "即实验组浏览时间对比测试组均值不同，且130>115，故而对照组存在显著提高。"
   ]
  },
  {
   "cell_type": "markdown",
   "metadata": {},
   "source": [
    "事实上，如果考虑实验完整性，应对AB测试所需样本量进行评估\n",
    "\n",
    "Python统计包statsmodels.stats.power中，有一个NormalIndPower工具，可以用其中的solve_power函数实现。\n",
    "\n",
    "Solve_power函数中的参数如下：\n",
    "\n",
    "（1）参数effect_size ： 两个样本均值之差/标准差\n",
    "\n",
    "（2）nobs1：样本1的样本量，样本2的样本量=样本1的样本量*ratio\n",
    "\n",
    "（3）alpha：显著性水平，一般取0.05\n",
    "\n",
    "（4）power：统计功效，一般去0.8\n",
    "\n",
    "（5）ratio: 样本2的样本量/样本1的样本量，一般取1\n",
    "\n",
    "（6）alternative：字符串str类型，默认为‘two-sided’,也可以为单边检验：’larger’ 或’small’\n",
    "\n",
    "例：目前的点击率CTR是0.3，我们要想提升10%，将点击率提升到0.33，测试组和对照组的样本量相同。\n",
    "如：想要提升的现有基准——转化率（conversion rate，可以为点击率、订阅率等）为10%；想要在此基础上提高10%（minimum detectable effect），即提高到11%；统计显著性为5%，统计功效选80%，则计算出结果为14751，即对照组和测试组需要的样本量均为14751。\n",
    "\n",
    "检测效果变化值越小，需要的样本量越大；检测效果变化值越大，需要的样本量越小。因为，变化效果越小，越有可能是抽样误差引起的；为了避免抽样误差的影响，需要增大样本量。"
   ]
  }
 ],
 "metadata": {
  "kernelspec": {
   "display_name": "Python 3",
   "language": "python",
   "name": "python3"
  },
  "language_info": {
   "codemirror_mode": {
    "name": "ipython",
    "version": 3
   },
   "file_extension": ".py",
   "mimetype": "text/x-python",
   "name": "python",
   "nbconvert_exporter": "python",
   "pygments_lexer": "ipython3",
   "version": "3.8.3"
  },
  "varInspector": {
   "cols": {
    "lenName": 16,
    "lenType": 16,
    "lenVar": 40
   },
   "kernels_config": {
    "python": {
     "delete_cmd_postfix": "",
     "delete_cmd_prefix": "del ",
     "library": "var_list.py",
     "varRefreshCmd": "print(var_dic_list())"
    },
    "r": {
     "delete_cmd_postfix": ") ",
     "delete_cmd_prefix": "rm(",
     "library": "var_list.r",
     "varRefreshCmd": "cat(var_dic_list()) "
    }
   },
   "types_to_exclude": [
    "module",
    "function",
    "builtin_function_or_method",
    "instance",
    "_Feature"
   ],
   "window_display": false
  }
 },
 "nbformat": 4,
 "nbformat_minor": 4
}
